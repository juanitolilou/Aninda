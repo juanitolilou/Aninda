{
 "cells": [
  {
   "cell_type": "code",
   "execution_count": 47,
   "id": "e8bd7220",
   "metadata": {},
   "outputs": [],
   "source": [
    "\"\"\"\n",
    "JC Perrin\n",
    "dernière modification 18/10/2021\n",
    "\"\"\"\n",
    "import os\n",
    "import nmrglue as ng\n",
    "import matplotlib.pyplot as plt\n",
    "import numpy as np\n",
    "from ipywidgets import *\n",
    "from IPython.display import display\n",
    "from scipy.signal import find_peaks\n",
    "data_folder = 'C:/Users/perrin27/Documents/#LEMTA/POST-DOC_Aninda/traitement-CSI_experiments/'"
   ]
  },
  {
   "cell_type": "code",
   "execution_count": 289,
   "id": "2c98eb03",
   "metadata": {},
   "outputs": [],
   "source": [
    "def open_exp(num):\n",
    "    num = ExpNum.value\n",
    "#    ExpNum = 369 # valeur à lire widget\n",
    "    decal_value = decal.value # valeur à lire widget\n",
    "    \n",
    "    dic, data = ng.bruker.read_pdata(data_folder + str(num) + \"/pdata/1\")\n",
    "    udic = ng.bruker.guess_udic(dic, data, strip_fake=True)\n",
    "# make ppm scales\n",
    "    uc_13c = ng.fileiobase.uc_from_udic(udic, dim=1)\n",
    "    ppm_13c = uc_13c.ppm_scale()\n",
    "    # ppm_x = ppm_13c\n",
    "    ppm_13c_0, ppm_13c_1 = uc_13c.ppm_limits()\n",
    "    uc_15n = ng.fileiobase.uc_from_udic(udic, dim=0)\n",
    "    ppm_15n = uc_15n.ppm_scale()\n",
    "    \n",
    "    # decalage pour centrer le spectre dans la dimension spatiale\n",
    "    data_roll = np.roll(data, decal_value, axis = 0)\n",
    "    return dic, data, data_roll, ppm_15n, ppm_13c, ppm_13c_0, ppm_13c_1\n",
    "\n",
    "\n",
    "#________________________________________________________________________________#\n",
    "    # Plot 2D contour plot\n",
    "def plot_2d_contour():\n",
    "    %matplotlib inline\n",
    "    dic, data, data_roll, ppm_15n, ppm_13c, ppm_13c_0, ppm_13c_1 = open_exp(ExpNum)\n",
    "    fig, ax = plt.subplots()\n",
    "# TD1 = dic['acqus']['TD']\n",
    "    TD2 = dic['acqu2s']['TD']\n",
    "    ax.contour(data_roll, extent=(ppm_13c_0, ppm_13c_1, 0, TD2))\n",
    "    plt.gca().invert_yaxis()\n",
    "    plt.gca().invert_xaxis()\n",
    "    ax.legend()\n",
    "    plt.xlim([0, -17])\n",
    "    plt.ylim([0, TD2])\n",
    "    plt.xlabel('proton Chemical shift (ppm)')\n",
    "    plt.ylabel('#point - spatial dimension (-)')\n",
    "\n",
    "\n",
    "#________________________________________________________________________________#\n",
    "    #Plot  projection along spatial dimension\n",
    "def plot_1d_profil():\n",
    "    %matplotlib inline\n",
    "    num = ExpNum.value\n",
    "#    ExpNum = 369 # valeur à lire depuis widget\n",
    "    dic, data, data_roll, ppm_15n, ppm_13c, ppm_13c_0, ppm_13c_1 = open_exp(num)\n",
    "    y_dist = np.arange(len(ppm_15n))\n",
    "    dist_sum = np.sum(data_roll,axis=1)\n",
    "    fig, ax = plt.subplots(figsize= [8, 4.8])\n",
    "    ax.plot(y_dist,dist_sum, label = \"ExpNum \"+str(num))\n",
    "    ax.scatter(y_dist,dist_sum)\n",
    "#plt.xlim([0, ])\n",
    "    plt.ylim([0, np.max(dist_sum)])\n",
    "    plt.xlabel('#point - spatial dimension (-)')\n",
    "    plt.ylabel('NMR intensity (-)')\n",
    "#plt.title('UT paper 122019 _ #72 [2 layers 100%water / 60%w40%gly]',color='royalblue')\n",
    "    text = 'projection along spatial dimension'\n",
    "    props = dict(boxstyle='round', facecolor='wheat', alpha=0.5)\n",
    "    ax.text(0.05, 1.1, text, transform=ax.transAxes, fontsize=16,\n",
    "            verticalalignment='top', bbox=props)\n",
    "    plt.legend()          \n",
    "\n",
    "\n",
    "#________________________________________________________________________________#\n",
    "    #plot  projection along spectral dimension\n",
    "def plot_proj_spectrum():\n",
    "    %matplotlib inline\n",
    "    dic, data, data_roll, ppm_15n, ppm_13c, ppm_13c_0, ppm_13c_1 = open_exp(ExpNum)\n",
    "    ppm_sum = np.sum(data_roll,axis=0)\n",
    "    fig, ax = plt.subplots(figsize= [8, 4.8])\n",
    "    plt.plot(ppm_13c,ppm_sum)\n",
    "    plt.xlim([15,-20])\n",
    "    plt.ylim([0, 1.75e7])\n",
    "    plt.xlabel('proton Chemical shift (ppm)')\n",
    "    plt.ylabel('NMR intensity (-)')\n",
    "#plt.title('UT paper 122019 _ #72 [2 layers 100%water / 60%w40%gly]',color='royalblue')\n",
    "          \n",
    "    text = 'projection along spectral dimension'\n",
    "    props = dict(boxstyle='round', facecolor='wheat', alpha=0.5)\n",
    "    ax.text(0.05, 0.95, text, transform=ax.transAxes, fontsize=16,\n",
    "            verticalalignment='top', bbox=props)\n",
    "\n",
    "#________________________________________________________________________________#\n",
    "    #plot  spectra at a specific location\n",
    "\n",
    "def plot_spectrum():\n",
    "\n",
    "    %matplotlib inline\n",
    "    num = ExpNum.value\n",
    "    point = loc.value\n",
    "    dic, data, data_roll, ppm_15n, ppm_13c, ppm_13c_0, ppm_13c_1 = open_exp(num)\n",
    "    fig, ax = plt.subplots(figsize= [8, 4.8])\n",
    "    spectre = data_roll[point,:]\n",
    "    plt.plot(ppm_13c,spectre,color = 'black')\n",
    "    plt.xlim([10,-30])\n",
    "    #plt.ylim([0, 10000])\n",
    "    plt.xlabel('proton Chemical shift (ppm)')\n",
    "    plt.ylabel('NMR intensity (-)')\n",
    "    text = \"ExpNum\"+str(num) + ' -point# ' + str(point) \n",
    "    props = dict(boxstyle='round', facecolor='wheat', alpha=0.5)\n",
    "    ax.text(0.05, 0.95, text, transform=ax.transAxes, fontsize=16,\n",
    "        verticalalignment='top', bbox=props)\n",
    "    #fig.savefig('C:/Users/perrin27/Desktop/toto/CSI/'+ str(ExpNum) + '-point'+str(loc) +'.png')\n",
    "    #plt.title(str(data_file))\n",
    "    plt.show()\n",
    "\n",
    "#________________________________________________________________________________#\n",
    "    #calculate intensity ratio of the two resonance lines\n",
    "    \n",
    "    # find the maxima\n",
    "def plot_Iratio():\n",
    "    %matplotlib inline\n",
    "    num = ExpNum.value\n",
    "    point = loc.value\n",
    "    dic, data, data_roll, ppm_15n, ppm_13c, ppm_13c_0, ppm_13c_1 = open_exp(num)\n",
    "    fig, ax = plt.subplots(figsize= [8, 4.8])\n",
    "    spectre = data_roll[point,:]\n",
    "    plt.plot(ppm_13c,spectre,color = 'black')\n",
    "    plt.xlim([10,-30])\n",
    "    #plt.ylim([0, 10000])\n",
    "    plt.xlabel('proton Chemical shift (ppm)')\n",
    "    plt.ylabel('NMR intensity (-)')\n",
    "    peaks, _ = find_peaks(spectre) # finds all local maxima by simple comparison of neighboring values \n",
    "    intensity_sorted = np.sort(spectre[peaks])[::-1]\n",
    "    I_ratio = intensity_sorted[1]/intensity_sorted[0] # calculates the intensity ratio between the two first values of the \"intensity_sorted\" array\n",
    "    plt.plot(ppm_13c[peaks],spectre[peaks], \"x\")\n",
    "    text = \"ExpNumum\"+str(num) + ' -point# ' + str(point) +\"\\n I_ratio = {:.3f}\".format(I_ratio)\n",
    "    props = dict(boxstyle='round', facecolor='wheat', alpha=0.5)\n",
    "    ax.text(0.05, 0.95, text, transform=ax.transAxes, fontsize=16,\n",
    "        verticalalignment='top', bbox=props)\n",
    "    plt.show()\n",
    "#     print(I_ratio)\n",
    "#     return(I_ratio)\n",
    "\n",
    "def calculate_Iratio(point):\n",
    "    num = ExpNum.value\n",
    "    dic, data, data_roll, ppm_15n, ppm_13c, ppm_13c_0, ppm_13c_1 = open_exp(num)\n",
    "    spectre = data_roll[point,:]\n",
    "    peaks, _ = find_peaks(spectre) # finds all local maxima by simple comparison of neighboring values \n",
    "    intensity_sorted = np.sort(spectre[peaks])[::-1]\n",
    "    I_ratio = intensity_sorted[1]/intensity_sorted[0] # calculates the intensity ratio between the two first values of the \"intensity_sorted\" array\n",
    "    return I_ratio\n",
    "    \n",
    "    \n",
    "def Iratio_profile():\n",
    "    start = range_slider.value[0]\n",
    "    end = range_slider.value[1]\n",
    "    pos = np.linspace(start-1, end-1, end-start+1, dtype = int)\n",
    "    num = ExpNum.value\n",
    "    Ir_profile = []\n",
    "    for i in pos:\n",
    "        I_ratio = calculate_Iratio(i)\n",
    "        Ir_profile.append(I_ratio)\n",
    "    fig, ax = plt.subplots(figsize= [8, 4.8])\n",
    "    ax.plot(pos,Ir_profile, label = \"ExpNum \"+str(num))\n",
    "    ax.scatter(pos,Ir_profile)\n",
    "    plt.xlabel('#point - spatial dimension (-)')\n",
    "    plt.ylabel('intensity ratio (-)')\n",
    "    text = 'Intensity ratio of the two resonance lines'\n",
    "    props = dict(boxstyle='round', facecolor='wheat', alpha=0.5)\n",
    "    ax.text(0.05, 1.1, text, transform=ax.transAxes, fontsize=16,\n",
    "            verticalalignment='top', bbox=props)\n",
    "    plt.legend()\n",
    "        "
   ]
  },
  {
   "cell_type": "code",
   "execution_count": 290,
   "id": "42c48adc",
   "metadata": {},
   "outputs": [
    {
     "data": {
      "text/plain": [
       "0.9764245357359957"
      ]
     },
     "execution_count": 290,
     "metadata": {},
     "output_type": "execute_result"
    }
   ],
   "source": [
    "\n",
    "calculate_Iratio(55)\n"
   ]
  },
  {
   "cell_type": "markdown",
   "id": "38ef2e05",
   "metadata": {},
   "source": [
    "## creation of the widgets"
   ]
  },
  {
   "cell_type": "code",
   "execution_count": 295,
   "id": "8f2a5db0",
   "metadata": {},
   "outputs": [],
   "source": [
    "\n",
    "\"\"\"\n",
    "ExpNum value\n",
    "\"\"\"\n",
    "# ExpNum = widgets.IntSlider(\n",
    "# value=369,\n",
    "# min=0,\n",
    "# max=1000,\n",
    "# step=1,\n",
    "# description='ExpNum:',\n",
    "# disabled=False,\n",
    "# continuous_update=False,\n",
    "# orientation='horizontal',\n",
    "# readout=True,\n",
    "# readout_format='d'\n",
    "# )\n",
    "\n",
    "ExpNum = widgets.IntText(\n",
    "    value=369,\n",
    "    description='ExpNum:',\n",
    "    disabled=False\n",
    ")\n",
    "\n",
    "\"\"\"\n",
    "decal slider\n",
    "\"\"\"\n",
    "decal = widgets.IntSlider(\n",
    "value=0,\n",
    "min=-128,\n",
    "max=128,\n",
    "step=1,\n",
    "description='decal:',\n",
    "disabled=False,\n",
    "continuous_update=False,\n",
    "orientation='horizontal',\n",
    "readout=True,\n",
    "readout_format='d'\n",
    ")\n",
    "\n",
    "\"\"\"\n",
    "plot_1d_profile BUTTON\n",
    "callback = \"plot_1d_profil()\" function\n",
    "\"\"\"\n",
    "plot_1d_profile = widgets.Button(description=\"Plot 1D profile\")\n",
    "output = widgets.Output()\n",
    "def on_button_clicked(b):\n",
    "    with output:\n",
    "        plot_1d_profil()\n",
    "plot_1d_profile.on_click(on_button_clicked)\n",
    "\n",
    "\"\"\"\n",
    "plot_spectrum BUTTON\n",
    "callback = \"plot_spectrum()\" function\n",
    "\"\"\"\n",
    "plot_spectr = widgets.Button(description=\"Plot spectrum\")\n",
    "output2 = widgets.Output()\n",
    "def on_button_clicked2(b):\n",
    "    with output2:\n",
    "        plot_spectrum()\n",
    "plot_spectr.on_click(on_button_clicked2)\n",
    "\n",
    "\"\"\"\n",
    "\"Plot Iratio\" BUTTON\n",
    "callback = \"calculate_Iratio()\" function\n",
    "calculates the intensity ratio of the two resonance lines = Imax(high_ppm_line)/Imax(low_ppm_line)\n",
    "\"\"\"\n",
    "Iratio = widgets.Button(description=\"Plot I ratio\")\n",
    "output3 = widgets.Output()\n",
    "def on_button_clicked3(b):\n",
    "    with output3:\n",
    "        plot_Iratio()\n",
    "Iratio.on_click(on_button_clicked3)\n",
    "\n",
    "\n",
    "\"\"\"\n",
    "range slider for Iratio profiles\n",
    "\"\"\"\n",
    "range_slider = widgets.IntRangeSlider(\n",
    "    value=[30, 50],\n",
    "    min=1,\n",
    "    max=128,\n",
    "    step=1,\n",
    "    description='Range',\n",
    "    disabled=False,\n",
    "    continuous_update=False,\n",
    "    orientation='horizontal',\n",
    "    readout=True,\n",
    "    readout_format='d',\n",
    ")\n",
    "\n",
    "\"\"\"\n",
    "Iratio profile BUTTON\n",
    "\"\"\"\n",
    "\n",
    "Iratio_prof = widgets.Button(description=\"Plot I ratio profile\")\n",
    "output4 = widgets.Output()\n",
    "def on_button_clicked4(b):\n",
    "    with output4:\n",
    "        Iratio_profile()\n",
    "Iratio_prof.on_click(on_button_clicked4)"
   ]
  },
  {
   "cell_type": "code",
   "execution_count": 296,
   "id": "450049d6",
   "metadata": {},
   "outputs": [
    {
     "data": {
      "application/vnd.jupyter.widget-view+json": {
       "model_id": "2cb05959c62c4c23b39bd00ed5f746a4",
       "version_major": 2,
       "version_minor": 0
      },
      "text/plain": [
       "IntText(value=369, description='ExpNum:')"
      ]
     },
     "metadata": {},
     "output_type": "display_data"
    },
    {
     "data": {
      "application/vnd.jupyter.widget-view+json": {
       "model_id": "c6593f9e41cd4a25b06c4a540e4ee70b",
       "version_major": 2,
       "version_minor": 0
      },
      "text/plain": [
       "IntSlider(value=0, continuous_update=False, description='decal:', max=128, min=-128)"
      ]
     },
     "metadata": {},
     "output_type": "display_data"
    },
    {
     "data": {
      "application/vnd.jupyter.widget-view+json": {
       "model_id": "8a71c535bd654234843fb65e8d764812",
       "version_major": 2,
       "version_minor": 0
      },
      "text/plain": [
       "Button(description='Plot 1D profile', style=ButtonStyle())"
      ]
     },
     "metadata": {},
     "output_type": "display_data"
    },
    {
     "data": {
      "application/vnd.jupyter.widget-view+json": {
       "model_id": "0036cdaec57a4bd6b3f6a345f6c21310",
       "version_major": 2,
       "version_minor": 0
      },
      "text/plain": [
       "Output()"
      ]
     },
     "metadata": {},
     "output_type": "display_data"
    },
    {
     "data": {
      "application/vnd.jupyter.widget-view+json": {
       "model_id": "dc461ce5f59a452a9e0fa4b58da03813",
       "version_major": 2,
       "version_minor": 0
      },
      "text/plain": [
       "IntText(value=90, description='#point')"
      ]
     },
     "metadata": {},
     "output_type": "display_data"
    },
    {
     "data": {
      "application/vnd.jupyter.widget-view+json": {
       "model_id": "f4828f25b6e64d9dafe4b2261d2b494f",
       "version_major": 2,
       "version_minor": 0
      },
      "text/plain": [
       "Button(description='Plot spectrum', style=ButtonStyle())"
      ]
     },
     "metadata": {},
     "output_type": "display_data"
    },
    {
     "data": {
      "application/vnd.jupyter.widget-view+json": {
       "model_id": "0d68fb483b054892b1d201e5d56bf189",
       "version_major": 2,
       "version_minor": 0
      },
      "text/plain": [
       "Output()"
      ]
     },
     "metadata": {},
     "output_type": "display_data"
    },
    {
     "data": {
      "application/vnd.jupyter.widget-view+json": {
       "model_id": "3294a16ae56f497dabf269575572af26",
       "version_major": 2,
       "version_minor": 0
      },
      "text/plain": [
       "Button(description='Plot I ratio', style=ButtonStyle())"
      ]
     },
     "metadata": {},
     "output_type": "display_data"
    },
    {
     "data": {
      "application/vnd.jupyter.widget-view+json": {
       "model_id": "44a8ba5ec6c44e8fbf15c5f702b47c7d",
       "version_major": 2,
       "version_minor": 0
      },
      "text/plain": [
       "Output()"
      ]
     },
     "metadata": {},
     "output_type": "display_data"
    },
    {
     "data": {
      "application/vnd.jupyter.widget-view+json": {
       "model_id": "8d3f85edd54c4dbf9ce620465edb190f",
       "version_major": 2,
       "version_minor": 0
      },
      "text/plain": [
       "IntRangeSlider(value=(30, 50), continuous_update=False, description='Range', max=128, min=1)"
      ]
     },
     "metadata": {},
     "output_type": "display_data"
    },
    {
     "data": {
      "application/vnd.jupyter.widget-view+json": {
       "model_id": "bd57d5120a744f90a71722eb5a511090",
       "version_major": 2,
       "version_minor": 0
      },
      "text/plain": [
       "Button(description='Plot I ratio profile', style=ButtonStyle())"
      ]
     },
     "metadata": {},
     "output_type": "display_data"
    },
    {
     "data": {
      "application/vnd.jupyter.widget-view+json": {
       "model_id": "5d7a6e624a88400a839a4340ec767a62",
       "version_major": 2,
       "version_minor": 0
      },
      "text/plain": [
       "Output()"
      ]
     },
     "metadata": {},
     "output_type": "display_data"
    }
   ],
   "source": [
    "display(ExpNum)\n",
    "display(decal)\n",
    "display(plot_1d_profile, output)\n",
    "display(loc)\n",
    "display(plot_spectr, output2)\n",
    "display(Iratio, output3)\n",
    "display(range_slider)\n",
    "display(Iratio_prof, output4)"
   ]
  },
  {
   "cell_type": "code",
   "execution_count": 297,
   "id": "20704307",
   "metadata": {},
   "outputs": [
    {
     "data": {
      "application/vnd.jupyter.widget-view+json": {
       "model_id": "5098c2c4d9d84986bb2f1b4787185917",
       "version_major": 2,
       "version_minor": 0
      },
      "text/plain": [
       "VBox(children=(HBox(children=(IntText(value=369, description='ExpNum:'), IntSlider(value=0, continuous_update=…"
      ]
     },
     "metadata": {},
     "output_type": "display_data"
    }
   ],
   "source": [
    "top_box = HBox([ExpNum, decal, loc, range_slider])\n",
    "middle_box = HBox([plot_1d_profile,plot_spectr,Iratio,Iratio_prof])\n",
    "bottom_box = HBox([output,output2,output3,output4])\n",
    "VBox([top_box, middle_box,bottom_box])"
   ]
  }
 ],
 "metadata": {
  "kernelspec": {
   "display_name": "Python 3",
   "language": "python",
   "name": "python3"
  },
  "language_info": {
   "codemirror_mode": {
    "name": "ipython",
    "version": 3
   },
   "file_extension": ".py",
   "mimetype": "text/x-python",
   "name": "python",
   "nbconvert_exporter": "python",
   "pygments_lexer": "ipython3",
   "version": "3.7.6"
  }
 },
 "nbformat": 4,
 "nbformat_minor": 5
}
